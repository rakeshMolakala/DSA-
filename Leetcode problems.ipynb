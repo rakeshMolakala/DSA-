{
 "cells": [
  {
   "cell_type": "markdown",
   "metadata": {},
   "source": [
    "# Leetcode 343 - Interger Breaking"
   ]
  },
  {
   "cell_type": "code",
   "execution_count": 25,
   "metadata": {},
   "outputs": [],
   "source": [
    "#Solution expalnation in notebook\n",
    "\n",
    "#recursion solution using memoization\n",
    "dp={}\n",
    "def f(n):\n",
    "    if n<=2:\n",
    "        return 1\n",
    "    else:\n",
    "        if n in dp:\n",
    "            return dp[n]\n",
    "        else:\n",
    "            ans=1*(n-1)\n",
    "            i=1\n",
    "            while(i<n):\n",
    "                firstno=i\n",
    "                secondno=n-i\n",
    "                prod=firstno*max(secondno,f(secondno))\n",
    "                if prod>ans:\n",
    "                    ans=prod\n",
    "                i=i+1\n",
    "        dp[n]=ans\n",
    "        return ans\n",
    "   \n",
    "#Normal Mathematical solution\n",
    "def integerBreak(n):\n",
    "    if n==2:\n",
    "        return 1\n",
    "    if n==3:\n",
    "        return 2\n",
    "    x=n//3\n",
    "    if x*3==n:\n",
    "        return 3**x\n",
    "    if x*3+1==n:\n",
    "        return (3**(x-1))*(2**2)\n",
    "    if x*3+2==n:\n",
    "        return (3**(x))*2"
   ]
  },
  {
   "cell_type": "code",
   "execution_count": 26,
   "metadata": {},
   "outputs": [
    {
     "data": {
      "text/plain": [
       "36"
      ]
     },
     "execution_count": 26,
     "metadata": {},
     "output_type": "execute_result"
    }
   ],
   "source": [
    "integerBreak(10)"
   ]
  },
  {
   "cell_type": "code",
   "execution_count": 27,
   "metadata": {},
   "outputs": [
    {
     "data": {
      "text/plain": [
       "36"
      ]
     },
     "execution_count": 27,
     "metadata": {},
     "output_type": "execute_result"
    }
   ],
   "source": [
    "f(10)"
   ]
  },
  {
   "cell_type": "markdown",
   "metadata": {},
   "source": [
    "# Leetcode - 104. Maximum Depth of Binary Tree"
   ]
  },
  {
   "cell_type": "code",
   "execution_count": 28,
   "metadata": {},
   "outputs": [],
   "source": [
    "# Definition for a binary tree node.\n",
    "class TreeNode:\n",
    "    def __init__(self, val=0, left=None, right=None):\n",
    "        self.val = val\n",
    "        self.left = left\n",
    "        self.right = right\n",
    "class Solution:\n",
    "    def maxDepth(self, root: TreeNode) -> int:\n",
    "        ## Recursion solution - Utuber\n",
    "        #base case\n",
    "        if not root:\n",
    "            return 0\n",
    "        left=self.maxDepth(root.left)\n",
    "        right=self.maxDepth(root.right)\n",
    "        return max(left,right)+1\n",
    "\n",
    "        \n",
    "        \n",
    "        ## My solution using BFS and level order print\n",
    "        # q=[root]\n",
    "        # currentcount=1\n",
    "        # nextcount=0\n",
    "        # s=0\n",
    "        # while(root):\n",
    "        #     if root in q:\n",
    "        #         q.pop(0)\n",
    "        #         currentcount=currentcount-1\n",
    "        #         print(root.val)\n",
    "        #     if root.left:\n",
    "        #         q.append(root.left)\n",
    "        #         nextcount=nextcount+1\n",
    "        #     if root.right:\n",
    "        #         q.append(root.right)\n",
    "        #         nextcount=nextcount+1\n",
    "        #     if currentcount==0:\n",
    "        #         currentcount=nextcount\n",
    "        #         nextcount=0\n",
    "        #         s=s+1\n",
    "        #     if not q:\n",
    "        #         break\n",
    "        #     root=q[0]\n",
    "        # return s\n",
    "            \n",
    "            \n",
    "            \n",
    "        \n"
   ]
  },
  {
   "cell_type": "markdown",
   "metadata": {},
   "source": [
    "# Leetcode 958 - Complete binary tree check for a given binary tree"
   ]
  },
  {
   "cell_type": "code",
   "execution_count": 29,
   "metadata": {},
   "outputs": [],
   "source": [
    "# Logic - To be a complete binary tree, there should be no node after a null node is appeared in the \n",
    "# breadth first search traversal of the binary tree, as the nodes should be filled from left to right.\n",
    "\n",
    "# We use this logic to find the problem, first we take a bool variable as False, then if we find any null node \n",
    "# while traversing BFS, we change the bool value to True, and then if we again find any node after bool being true, \n",
    "# we return False, else of all these we return True.\n",
    "\n",
    "class TreeNode:\n",
    "    def __init__(self, val=0, left=None, right=None):\n",
    "        self.val = val\n",
    "        self.left = left\n",
    "        self.right = right\n",
    "class Solution:\n",
    "    def isCompleteTree(self, root: TreeNode) -> bool:      \n",
    "        boo=False\n",
    "        q=[root]\n",
    "        while(q):\n",
    "            node=q.pop(0)\n",
    "            if not node:\n",
    "                boo=True\n",
    "            else:\n",
    "                if boo:\n",
    "                    return False\n",
    "                else:\n",
    "                    q.append(node.left)\n",
    "                    q.append(node.right)\n",
    "        return True"
   ]
  },
  {
   "cell_type": "markdown",
   "metadata": {},
   "source": [
    "# Leetcode 236 lowest Common Ancestor of a binary search tree"
   ]
  },
  {
   "cell_type": "code",
   "execution_count": 1,
   "metadata": {},
   "outputs": [],
   "source": [
    "# Here we check for everynode and see if current node falls between p and q, we return current, \n",
    "# or if highest of p and q is less than current we make the current node to current's left subtree and do the process \n",
    "# or if lowest of p and q is more than current we make the current node to current's right subtree and do the process \n",
    "\n",
    "\n",
    "# Definition for a binary tree node.\n",
    "# class TreeNode:\n",
    "#     def __init__(self, x):\n",
    "#         self.val = x\n",
    "#         self.left = None\n",
    "#         self.right = None\n",
    "\n",
    "class Solution:\n",
    "    def lowestCommonAncestor(self, root: 'TreeNode', p: 'TreeNode', q: 'TreeNode') -> 'TreeNode':\n",
    "        curr=root\n",
    "        while(curr):\n",
    "            if p.val<q.val:\n",
    "                if p.val<=curr.val<=q.val:\n",
    "                    return curr\n",
    "                if q.val<curr.val:\n",
    "                    curr=curr.left\n",
    "                if curr.val<p.val:\n",
    "                    curr=curr.right\n",
    "            else:\n",
    "                if q.val<=curr.val<=p.val:\n",
    "                    return curr\n",
    "                if curr.val>p.val:\n",
    "                    curr=curr.left\n",
    "                if curr.val<q.val:\n",
    "                    curr=curr.right\n",
    "            "
   ]
  },
  {
   "cell_type": "markdown",
   "metadata": {},
   "source": [
    "# Leetcode 199 Binary Tree Right side View"
   ]
  },
  {
   "cell_type": "code",
   "execution_count": null,
   "metadata": {},
   "outputs": [],
   "source": [
    "# Here we used breadth first search, so that we only append most rightest element of each level\n",
    "\n",
    "# Definition for a binary tree node.\n",
    "# class TreeNode:\n",
    "#     def __init__(self, val=0, left=None, right=None):\n",
    "#         self.val = val\n",
    "#         self.left = left\n",
    "#         self.right = right\n",
    "class Solution:\n",
    "    def rightSideView(self, root: TreeNode) -> List[int]:\n",
    "        l=[]\n",
    "        if root:\n",
    "            q=[root]\n",
    "            while(q):\n",
    "                n=len(q)\n",
    "                for i in range(n):\n",
    "                    node=q.pop(0)\n",
    "                    if i==n-1:\n",
    "                        l.append(node.val)\n",
    "                    if node.left:\n",
    "                        q.append(node.left)\n",
    "                    if node.right:\n",
    "                        q.append(node.right)\n",
    "            return l\n",
    "        else:\n",
    "            return l\n",
    "        \n",
    "        \n",
    "        \n",
    "#         ls=[]\n",
    "#         lb=[]\n",
    "#         if root:\n",
    "#             q=[root]\n",
    "#             currentcount=1\n",
    "#             nextcount=0\n",
    "#             while(q):\n",
    "#                 node=q.pop(0)\n",
    "#                 ls.append(node.val)\n",
    "#                 currentcount=currentcount-1\n",
    "#                 if node.right:\n",
    "#                     q.append(node.right)\n",
    "#                     nextcount=nextcount+1\n",
    "#                 if node.left:\n",
    "#                     q.append(node.left)\n",
    "#                     nextcount=nextcount+1\n",
    "#                 if currentcount==0:\n",
    "#                     currentcount=nextcount\n",
    "#                     nextcount=0\n",
    "#                     lb.append(ls[0])\n",
    "#                     ls=[]\n",
    "#             return lb\n",
    "#         else:\n",
    "#             return lb\n",
    "           "
   ]
  }
 ],
 "metadata": {
  "kernelspec": {
   "display_name": "Python 3 (ipykernel)",
   "language": "python",
   "name": "python3"
  },
  "language_info": {
   "codemirror_mode": {
    "name": "ipython",
    "version": 3
   },
   "file_extension": ".py",
   "mimetype": "text/x-python",
   "name": "python",
   "nbconvert_exporter": "python",
   "pygments_lexer": "ipython3",
   "version": "3.9.7"
  }
 },
 "nbformat": 4,
 "nbformat_minor": 4
}
