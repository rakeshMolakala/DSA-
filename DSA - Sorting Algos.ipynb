{
 "cells": [
  {
   "cell_type": "markdown",
   "metadata": {},
   "source": [
    "# Sorting Algos"
   ]
  },
  {
   "cell_type": "markdown",
   "metadata": {},
   "source": [
    "# 1) Bubble Sort"
   ]
  },
  {
   "cell_type": "code",
   "execution_count": 3,
   "metadata": {},
   "outputs": [],
   "source": [
    "def bubble_sort(l):\n",
    "    n=len(l)\n",
    "    for i in range(n,0,-1):\n",
    "        for j in range(1,i):\n",
    "            if l[j-1]>l[j]:\n",
    "                temp=l[j]\n",
    "                l[j]=l[j-1]\n",
    "                l[j-1]=temp\n",
    "        print(l)\n",
    "    return l\n"
   ]
  },
  {
   "cell_type": "code",
   "execution_count": 4,
   "metadata": {},
   "outputs": [
    {
     "name": "stdout",
     "output_type": "stream",
     "text": [
      "[4, 3, 2, 1, 5]\n",
      "[3, 2, 1, 4, 5]\n",
      "[2, 1, 3, 4, 5]\n",
      "[1, 2, 3, 4, 5]\n",
      "[1, 2, 3, 4, 5]\n"
     ]
    },
    {
     "data": {
      "text/plain": [
       "[1, 2, 3, 4, 5]"
      ]
     },
     "execution_count": 4,
     "metadata": {},
     "output_type": "execute_result"
    }
   ],
   "source": [
    "bubble_sort([5,4,3,2,1])"
   ]
  },
  {
   "cell_type": "markdown",
   "metadata": {},
   "source": [
    "# 2) Selection sort\n"
   ]
  },
  {
   "cell_type": "code",
   "execution_count": 47,
   "metadata": {},
   "outputs": [],
   "source": [
    "def selection_sort(l):\n",
    "    n=len(l)\n",
    "\n",
    "    for i in range(n,1,-1):\n",
    "        current_max_index=0\n",
    "     \n",
    "        for j in range(1,i):\n",
    "            if l[j]>l[current_max_index]:\n",
    "                current_max_index=j\n",
    "                \n",
    "        temp=l[i-1]\n",
    "        l[i-1]=l[current_max_index]\n",
    "        l[current_max_index]=temp\n",
    "        print(l)\n",
    "        \n",
    "    return l"
   ]
  },
  {
   "cell_type": "code",
   "execution_count": 48,
   "metadata": {},
   "outputs": [
    {
     "name": "stdout",
     "output_type": "stream",
     "text": [
      "[4, 2, 8, 33, 1, 0, 3, 88]\n",
      "[4, 2, 8, 3, 1, 0, 33, 88]\n",
      "[4, 2, 0, 3, 1, 8, 33, 88]\n",
      "[1, 2, 0, 3, 4, 8, 33, 88]\n",
      "[1, 2, 0, 3, 4, 8, 33, 88]\n",
      "[1, 0, 2, 3, 4, 8, 33, 88]\n",
      "[0, 1, 2, 3, 4, 8, 33, 88]\n"
     ]
    },
    {
     "data": {
      "text/plain": [
       "[0, 1, 2, 3, 4, 8, 33, 88]"
      ]
     },
     "execution_count": 48,
     "metadata": {},
     "output_type": "execute_result"
    }
   ],
   "source": [
    "selection_sort([4,2,8,33,1,88,3,0])"
   ]
  },
  {
   "cell_type": "markdown",
   "metadata": {},
   "source": [
    "# 3) Insertion sort"
   ]
  },
  {
   "cell_type": "code",
   "execution_count": 9,
   "metadata": {},
   "outputs": [],
   "source": [
    "def insertion_sort(l):\n",
    "    n=len(l)\n",
    "    for i in range(1,n):\n",
    "        current_value=l[i]\n",
    "        position=i\n",
    "        \n",
    "        while position>0 and l[position-1]>current_value:\n",
    "            l[position]=l[position-1]\n",
    "            position=position-1\n",
    "            \n",
    "        l[position]=current_value\n",
    "        print(l)\n",
    "\n",
    "    return l\n",
    "        "
   ]
  },
  {
   "cell_type": "code",
   "execution_count": 10,
   "metadata": {},
   "outputs": [
    {
     "name": "stdout",
     "output_type": "stream",
     "text": [
      "[2, 4, 8, 33, 1, 88, 3, 0]\n",
      "[2, 4, 8, 33, 1, 88, 3, 0]\n",
      "[2, 4, 8, 33, 1, 88, 3, 0]\n",
      "[1, 2, 4, 8, 33, 88, 3, 0]\n",
      "[1, 2, 4, 8, 33, 88, 3, 0]\n",
      "[1, 2, 3, 4, 8, 33, 88, 0]\n",
      "[0, 1, 2, 3, 4, 8, 33, 88]\n"
     ]
    },
    {
     "data": {
      "text/plain": [
       "[0, 1, 2, 3, 4, 8, 33, 88]"
      ]
     },
     "execution_count": 10,
     "metadata": {},
     "output_type": "execute_result"
    }
   ],
   "source": [
    "insertion_sort([4,2,8,33,1,88,3,0])"
   ]
  },
  {
   "cell_type": "markdown",
   "metadata": {},
   "source": [
    "# 4) Shell Sort"
   ]
  },
  {
   "cell_type": "code",
   "execution_count": 43,
   "metadata": {},
   "outputs": [],
   "source": [
    "def shell_sort(arr):\n",
    "    sublistcount = len(arr)//2\n",
    "    \n",
    "    # While we still have sub lists\n",
    "    while sublistcount > 0:\n",
    "        for start in range(sublistcount):\n",
    "            # Use a gap insertion\n",
    "            print(\"gap: \",sublistcount)\n",
    "            print(\"start: \",start)\n",
    "            gap_insertion_sort(arr,start,sublistcount)\n",
    "\n",
    "        sublistcount = sublistcount // 2\n",
    "\n",
    "def gap_insertion_sort(arr,start,gap):\n",
    "    print(\"input array\",arr)\n",
    "    for i in range(start+gap,len(arr),gap):\n",
    "\n",
    "        currentvalue = arr[i]\n",
    "        position = i\n",
    "\n",
    "        # Using the Gap\n",
    "        while position>=gap and arr[position-gap]>currentvalue:\n",
    "            arr[position]=arr[position-gap]\n",
    "            position = position-gap\n",
    "        \n",
    "        # Set current value\n",
    "        arr[position]=currentvalue\n",
    "    print(\"output array\",arr)"
   ]
  },
  {
   "cell_type": "code",
   "execution_count": 44,
   "metadata": {},
   "outputs": [
    {
     "name": "stdout",
     "output_type": "stream",
     "text": [
      "gap:  4\n",
      "start:  0\n",
      "input array [4, 2, 8, 33, 1, 88, 3, 0]\n",
      "output array [1, 2, 8, 33, 4, 88, 3, 0]\n",
      "gap:  4\n",
      "start:  1\n",
      "input array [1, 2, 8, 33, 4, 88, 3, 0]\n",
      "output array [1, 2, 8, 33, 4, 88, 3, 0]\n",
      "gap:  4\n",
      "start:  2\n",
      "input array [1, 2, 8, 33, 4, 88, 3, 0]\n",
      "output array [1, 2, 3, 33, 4, 88, 8, 0]\n",
      "gap:  4\n",
      "start:  3\n",
      "input array [1, 2, 3, 33, 4, 88, 8, 0]\n",
      "output array [1, 2, 3, 0, 4, 88, 8, 33]\n",
      "gap:  2\n",
      "start:  0\n",
      "input array [1, 2, 3, 0, 4, 88, 8, 33]\n",
      "output array [1, 2, 3, 0, 4, 88, 8, 33]\n",
      "gap:  2\n",
      "start:  1\n",
      "input array [1, 2, 3, 0, 4, 88, 8, 33]\n",
      "output array [1, 0, 3, 2, 4, 33, 8, 88]\n",
      "gap:  1\n",
      "start:  0\n",
      "input array [1, 0, 3, 2, 4, 33, 8, 88]\n",
      "output array [0, 1, 2, 3, 4, 8, 33, 88]\n"
     ]
    },
    {
     "data": {
      "text/plain": [
       "[0, 1, 2, 3, 4, 8, 33, 88]"
      ]
     },
     "execution_count": 44,
     "metadata": {},
     "output_type": "execute_result"
    }
   ],
   "source": [
    "arr=[4,2,8,33,1,88,3,0]\n",
    "shell_sort(arr)\n",
    "arr"
   ]
  },
  {
   "cell_type": "markdown",
   "metadata": {},
   "source": [
    "# 5.Merge Sort \n"
   ]
  },
  {
   "cell_type": "code",
   "execution_count": null,
   "metadata": {},
   "outputs": [],
   "source": []
  },
  {
   "cell_type": "markdown",
   "metadata": {},
   "source": [
    "# 6.Quick Sort"
   ]
  },
  {
   "cell_type": "markdown",
   "metadata": {},
   "source": [
    "the main idea behind quick sort is divide and conquer technique, after each partition we get the pivot element in its right position, and we again do the partition for the left and right array parts of the pivot elements and continue this process, until the array partition contains two elements.\n",
    "\n",
    "firstly, the pivot element can be element and here we are choosing the first element as pivot element. from pivot element we make two pointers as leftmark and rightmark(which carry the index values) at each of the array and iterate them through the list.\n",
    "\n",
    "if we see any leftmark element lesser than the than pivot element, the leftmark is iterated to the next one, but if any element greater than pivot is found we stop the iteration.\n",
    "\n",
    "in the same way, if we see any rightmark element greater than the than pivot element, the rightmark is iterated to the next one (in backward direction), but if any element greater than pivot is found we stop the iteration.\n",
    "\n",
    "and after both the marks got stopped, we swap them.\n",
    "\n",
    "but if the both marks got crossed, that is leftmark is greater than rightmark, it means the arrangment is done, and then we swap the first element that is pivot element with rightmark element.\n",
    "\n",
    "The whole idea behind this logic is we need to make an array such that the pivot element's left elements should be lesses than the pivot elements and the pivot element's right elements should be greater than the pivot elements.\n",
    "\n",
    "It is not necessary that left and right part of array to pivot are sorted, our main goal is the pivot element got it's final position as it will be in the sorted array."
   ]
  },
  {
   "cell_type": "code",
   "execution_count": 1,
   "metadata": {},
   "outputs": [],
   "source": [
    "def quick_sort(arr):\n",
    "    \n",
    "    quick_sort_help(arr,0,len(arr)-1)\n",
    "\n",
    "def quick_sort_help(arr,first,last):\n",
    "    \n",
    "    if first<last:\n",
    "        \n",
    "        splitpoint = partition(arr,first,last)\n",
    "        \n",
    "        #Here the splitpoint is the index number of the pivot element final position after arrangement so that we can \n",
    "        #divide the left and right part of it and recursive call the partititon func.\n",
    "\n",
    "        quick_sort_help(arr,first,splitpoint-1)\n",
    "        quick_sort_help(arr,splitpoint+1,last)\n",
    "\n",
    "\n",
    "def partition(arr,first,last):\n",
    "    \n",
    "    pivotvalue = arr[first]\n",
    "\n",
    "    leftmark = first+1\n",
    "    rightmark = last\n",
    "\n",
    "    done = False\n",
    "    while not done:\n",
    "\n",
    "        while leftmark <= rightmark and arr[leftmark] <= pivotvalue:\n",
    "            leftmark = leftmark + 1\n",
    "\n",
    "        while arr[rightmark] >= pivotvalue and rightmark >= leftmark:\n",
    "            rightmark = rightmark -1\n",
    "\n",
    "        if rightmark < leftmark:\n",
    "            done = True\n",
    "        else:\n",
    "            temp = arr[leftmark]\n",
    "            arr[leftmark] = arr[rightmark]\n",
    "            arr[rightmark] = temp\n",
    "\n",
    "    temp = arr[first]\n",
    "    arr[first] = arr[rightmark]\n",
    "    arr[rightmark] = temp\n",
    "\n",
    "\n",
    "    return rightmark"
   ]
  },
  {
   "cell_type": "code",
   "execution_count": 2,
   "metadata": {},
   "outputs": [
    {
     "data": {
      "text/plain": [
       "[1, 2, 3, 4, 4, 5, 6, 7, 11, 12]"
      ]
     },
     "execution_count": 2,
     "metadata": {},
     "output_type": "execute_result"
    }
   ],
   "source": [
    "arr = [2,5,4,6,7,3,1,4,12,11]\n",
    "quick_sort(arr)\n",
    "arr"
   ]
  },
  {
   "cell_type": "code",
   "execution_count": null,
   "metadata": {},
   "outputs": [],
   "source": []
  }
 ],
 "metadata": {
  "kernelspec": {
   "display_name": "Python 3",
   "language": "python",
   "name": "python3"
  },
  "language_info": {
   "codemirror_mode": {
    "name": "ipython",
    "version": 3
   },
   "file_extension": ".py",
   "mimetype": "text/x-python",
   "name": "python",
   "nbconvert_exporter": "python",
   "pygments_lexer": "ipython3",
   "version": "3.8.5"
  }
 },
 "nbformat": 4,
 "nbformat_minor": 4
}
