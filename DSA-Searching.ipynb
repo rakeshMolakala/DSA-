{
 "cells": [
  {
   "cell_type": "markdown",
   "metadata": {},
   "source": [
    "# Sequential Search"
   ]
  },
  {
   "cell_type": "markdown",
   "metadata": {},
   "source": [
    "# 1) Unordered List"
   ]
  },
  {
   "cell_type": "code",
   "execution_count": 6,
   "metadata": {},
   "outputs": [],
   "source": [
    "def unorder_seq_search(arr,ele):\n",
    "    pos=0\n",
    "    found=False\n",
    "    while(pos<len(arr) and not found):\n",
    "        if arr[pos]==ele:\n",
    "            found=True\n",
    "        else:\n",
    "            pos=pos+1\n",
    "    return found\n"
   ]
  },
  {
   "cell_type": "code",
   "execution_count": 7,
   "metadata": {},
   "outputs": [
    {
     "data": {
      "text/plain": [
       "True"
      ]
     },
     "execution_count": 7,
     "metadata": {},
     "output_type": "execute_result"
    }
   ],
   "source": [
    "a=[1,4,2,8,3,5]\n",
    "unorder_seq_search(a,3)"
   ]
  },
  {
   "cell_type": "code",
   "execution_count": 8,
   "metadata": {},
   "outputs": [
    {
     "data": {
      "text/plain": [
       "False"
      ]
     },
     "execution_count": 8,
     "metadata": {},
     "output_type": "execute_result"
    }
   ],
   "source": [
    "a=[1,4,2,8,3,5]\n",
    "unorder_seq_search(a,55)"
   ]
  },
  {
   "cell_type": "markdown",
   "metadata": {},
   "source": [
    "# 2) Ordered List"
   ]
  },
  {
   "cell_type": "code",
   "execution_count": 16,
   "metadata": {},
   "outputs": [],
   "source": [
    "def order_seq_search(arr,ele):\n",
    "    #array should be sorted in ascending order\n",
    "    pos=0\n",
    "    found=False\n",
    "    while(pos<len(arr) and not found and arr[pos]<=ele):\n",
    "        if arr[pos]==ele:\n",
    "            found=True\n",
    "        else:\n",
    "            pos=pos+1\n",
    "    return found\n"
   ]
  },
  {
   "cell_type": "code",
   "execution_count": 17,
   "metadata": {},
   "outputs": [
    {
     "data": {
      "text/plain": [
       "True"
      ]
     },
     "execution_count": 17,
     "metadata": {},
     "output_type": "execute_result"
    }
   ],
   "source": [
    "a=[1,2,3,5,6,7]\n",
    "order_seq_search(a,1)"
   ]
  },
  {
   "cell_type": "code",
   "execution_count": 18,
   "metadata": {},
   "outputs": [
    {
     "data": {
      "text/plain": [
       "False"
      ]
     },
     "execution_count": 18,
     "metadata": {},
     "output_type": "execute_result"
    }
   ],
   "source": [
    "a=[1,2,3,5,6,7]\n",
    "order_seq_search(a,4)"
   ]
  },
  {
   "cell_type": "markdown",
   "metadata": {},
   "source": [
    "# Binary Search"
   ]
  },
  {
   "cell_type": "markdown",
   "metadata": {},
   "source": [
    "# 1.Iterative approach"
   ]
  },
  {
   "cell_type": "code",
   "execution_count": 60,
   "metadata": {},
   "outputs": [],
   "source": [
    "def b_search(arr,ele):\n",
    "    first=0\n",
    "    last=len(arr)-1\n",
    "    found=False\n",
    "    \n",
    "    while first<=last and not found:\n",
    "        mid=(first+last)//2\n",
    "        if ele==arr[mid]:\n",
    "            found=True\n",
    "        else:\n",
    "            if ele<arr[mid]:\n",
    "                last=mid-1\n",
    "            else:\n",
    "                first=mid+1\n",
    "    return found\n",
    "    "
   ]
  },
  {
   "cell_type": "code",
   "execution_count": 62,
   "metadata": {},
   "outputs": [
    {
     "data": {
      "text/plain": [
       "False"
      ]
     },
     "execution_count": 62,
     "metadata": {},
     "output_type": "execute_result"
    }
   ],
   "source": [
    "a=[1,2,3,5,6,7]\n",
    "b_search(a,4)"
   ]
  },
  {
   "cell_type": "markdown",
   "metadata": {},
   "source": [
    "# 2.Recursuve Approach"
   ]
  },
  {
   "cell_type": "code",
   "execution_count": 108,
   "metadata": {},
   "outputs": [],
   "source": [
    "def rec_bin_search(arr,ele):\n",
    "    if len(arr)==0:\n",
    "        return False\n",
    "    else:\n",
    "        mid=(len(arr)-1)//2\n",
    "        if ele==arr[mid]:\n",
    "            return True\n",
    "        else:\n",
    "            if ele<arr[mid]:\n",
    "                return rec_bin_search(arr[0:mid],ele)\n",
    "            else:\n",
    "                return rec_bin_search(arr[mid+1:],ele)\n",
    "            \n"
   ]
  },
  {
   "cell_type": "code",
   "execution_count": 109,
   "metadata": {},
   "outputs": [
    {
     "data": {
      "text/plain": [
       "False"
      ]
     },
     "execution_count": 109,
     "metadata": {},
     "output_type": "execute_result"
    }
   ],
   "source": [
    "a=[1,2,3,5,6,7,8]\n",
    "rec_bin_search(a,0)"
   ]
  },
  {
   "cell_type": "code",
   "execution_count": 110,
   "metadata": {},
   "outputs": [
    {
     "data": {
      "text/plain": [
       "False"
      ]
     },
     "execution_count": 110,
     "metadata": {},
     "output_type": "execute_result"
    }
   ],
   "source": [
    "a=[1,2,3,5,6,7,8]\n",
    "rec_bin_search(a,9)"
   ]
  },
  {
   "cell_type": "code",
   "execution_count": 111,
   "metadata": {},
   "outputs": [
    {
     "data": {
      "text/plain": [
       "True"
      ]
     },
     "execution_count": 111,
     "metadata": {},
     "output_type": "execute_result"
    }
   ],
   "source": [
    "a=[1,2,3,5,6,7,8]\n",
    "rec_bin_search(a,7)"
   ]
  },
  {
   "cell_type": "markdown",
   "metadata": {},
   "source": [
    "# Hash table Implementation"
   ]
  },
  {
   "cell_type": "code",
   "execution_count": 1,
   "metadata": {},
   "outputs": [],
   "source": [
    "# Python already has a built-in dictionary object that serves as a Hash Table, \n",
    "# you would never actually need to implement your own hash table in Python."
   ]
  },
  {
   "cell_type": "code",
   "execution_count": 35,
   "metadata": {},
   "outputs": [],
   "source": [
    "class Hashtable:\n",
    "    \n",
    "    def __init__(self,size):\n",
    "        self.size=size\n",
    "        self.slots=[None]*size\n",
    "        self.data=[None]*size\n",
    "    \n",
    "    def put(self,key,data):\n",
    "        hashvalue=self.hashFunction(key,self.size)\n",
    "        \n",
    "        #if there's nothing in the slot we just insert the key and value \n",
    "        if self.slots[hashvalue]==None:\n",
    "            self.slots[hashvalue]=key\n",
    "            self.data[hashvalue]=data\n",
    "        else:\n",
    "            #if it is not empty and contains the same key as input, we just change the data value of it\n",
    "            if self.slots[hashvalue]==key:\n",
    "                self.data[hashvalue]=data\n",
    "            #else we just find the next empty slot\n",
    "            else:\n",
    "                # this rehash fun moves by one slot forward\n",
    "                nextslot=self.rehash(hashvalue,self.size)\n",
    "                \n",
    "                # we iterate thorugh until we find a empty slot or the slot the that contains the same key as input\n",
    "                while(self.slots[nextslot]!=None and self.slots[nextslot]!=key):\n",
    "                    nextslot=self.rehash(nextslot,self.size)\n",
    "                    \n",
    "                if self.slots[nextslot]==None:\n",
    "                    self.slots[nextslot]=key\n",
    "                    self.data[nextslot]=data\n",
    "                else:\n",
    "                    self.data[nextslot]=data\n",
    "                        \n",
    "    #Here we using the remainder hash function\n",
    "    def hashFunction(self,key,size):\n",
    "        return key%size\n",
    "    \n",
    "    #Here we are rehashing by one slot\n",
    "    def rehash(self,oldhash,size):\n",
    "        return (oldhash+1)%size\n",
    "    \n",
    "    #We get the value for the given key value\n",
    "    def get(self,key):\n",
    "        #we first find the initial slot for the given key value\n",
    "        startslot=self.hashFunction(key,self.size)\n",
    "        found=False\n",
    "        data=None\n",
    "        stop=False\n",
    "        position=startslot\n",
    "        \n",
    "        #then we iterate through the slots until we find none, because we wont get if any slot that gets inserted than its \n",
    "        # original slot should be in the first none available for it, so if we get None, that key is not there\n",
    "        while(self.slots[position]!=None and not found and not stop):\n",
    "            \n",
    "            if self.slots[position]==key:\n",
    "                found=True\n",
    "                data=self.data[position]\n",
    "            else:\n",
    "                position=self.rehash(position,self.size)\n",
    "                if position==startslot:\n",
    "                    stop=True\n",
    "            \n",
    "        return data\n",
    "    \n",
    "    # Special Methods for use with Python indexing\n",
    "    def __getitem__(self,key):\n",
    "        return self.get(key)\n",
    "    \n",
    "    def __setitem__(self,key,data):\n",
    "        return self.put(key,data)\n",
    "                "
   ]
  },
  {
   "cell_type": "code",
   "execution_count": 36,
   "metadata": {},
   "outputs": [],
   "source": [
    "h=Hashtable(5)"
   ]
  },
  {
   "cell_type": "code",
   "execution_count": 37,
   "metadata": {},
   "outputs": [],
   "source": [
    "h[1]=\"rr\"\n",
    "h[0]=\"e\"\n",
    "h[4]=\"ff\""
   ]
  },
  {
   "cell_type": "code",
   "execution_count": 38,
   "metadata": {},
   "outputs": [
    {
     "data": {
      "text/plain": [
       "'ff'"
      ]
     },
     "execution_count": 38,
     "metadata": {},
     "output_type": "execute_result"
    }
   ],
   "source": [
    "h[4]"
   ]
  },
  {
   "cell_type": "code",
   "execution_count": 39,
   "metadata": {},
   "outputs": [
    {
     "data": {
      "text/plain": [
       "[0, 1, None, None, 4]"
      ]
     },
     "execution_count": 39,
     "metadata": {},
     "output_type": "execute_result"
    }
   ],
   "source": [
    "h.slots"
   ]
  },
  {
   "cell_type": "code",
   "execution_count": 40,
   "metadata": {},
   "outputs": [
    {
     "data": {
      "text/plain": [
       "['e', 'rr', None, None, 'ff']"
      ]
     },
     "execution_count": 40,
     "metadata": {},
     "output_type": "execute_result"
    }
   ],
   "source": [
    "h.data"
   ]
  },
  {
   "cell_type": "code",
   "execution_count": 41,
   "metadata": {},
   "outputs": [],
   "source": [
    "h[11]=\"vin\""
   ]
  },
  {
   "cell_type": "code",
   "execution_count": 42,
   "metadata": {},
   "outputs": [
    {
     "data": {
      "text/plain": [
       "[0, 1, 11, None, 4]"
      ]
     },
     "execution_count": 42,
     "metadata": {},
     "output_type": "execute_result"
    }
   ],
   "source": [
    "h.slots"
   ]
  },
  {
   "cell_type": "code",
   "execution_count": 43,
   "metadata": {},
   "outputs": [
    {
     "data": {
      "text/plain": [
       "['e', 'rr', 'vin', None, 'ff']"
      ]
     },
     "execution_count": 43,
     "metadata": {},
     "output_type": "execute_result"
    }
   ],
   "source": [
    "h.data"
   ]
  }
 ],
 "metadata": {
  "kernelspec": {
   "display_name": "Python 3",
   "language": "python",
   "name": "python3"
  },
  "language_info": {
   "codemirror_mode": {
    "name": "ipython",
    "version": 3
   },
   "file_extension": ".py",
   "mimetype": "text/x-python",
   "name": "python",
   "nbconvert_exporter": "python",
   "pygments_lexer": "ipython3",
   "version": "3.8.5"
  }
 },
 "nbformat": 4,
 "nbformat_minor": 4
}
