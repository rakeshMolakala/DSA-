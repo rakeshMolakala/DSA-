{
 "cells": [
  {
   "cell_type": "markdown",
   "metadata": {},
   "source": [
    "# Singly Linked List Implementation"
   ]
  },
  {
   "cell_type": "code",
   "execution_count": 2,
   "metadata": {},
   "outputs": [],
   "source": [
    "class node(object):\n",
    "    \n",
    "    def __init__(self,value):\n",
    "        self.value=value\n",
    "        self.nextnode=None"
   ]
  },
  {
   "cell_type": "code",
   "execution_count": 4,
   "metadata": {},
   "outputs": [],
   "source": [
    "a=node(1)\n",
    "b=node(2)\n",
    "c=node(3)"
   ]
  },
  {
   "cell_type": "code",
   "execution_count": 5,
   "metadata": {},
   "outputs": [],
   "source": [
    "a.nextnode=b\n",
    "b.nextnode=c\n"
   ]
  },
  {
   "cell_type": "code",
   "execution_count": 7,
   "metadata": {},
   "outputs": [
    {
     "data": {
      "text/plain": [
       "2"
      ]
     },
     "execution_count": 7,
     "metadata": {},
     "output_type": "execute_result"
    }
   ],
   "source": [
    "a.nextnode.value"
   ]
  },
  {
   "cell_type": "markdown",
   "metadata": {},
   "source": [
    "# Doubly Linked List"
   ]
  },
  {
   "cell_type": "code",
   "execution_count": 8,
   "metadata": {},
   "outputs": [],
   "source": [
    "class DoublyLinkedListnode(object):\n",
    "     def __init__(self,value):\n",
    "            self.value=value\n",
    "            self.prevnode=None\n",
    "            self.nextnode=None"
   ]
  },
  {
   "cell_type": "code",
   "execution_count": 9,
   "metadata": {},
   "outputs": [],
   "source": [
    "a=DoublyLinkedListnode(1)\n",
    "b=DoublyLinkedListnode(2)\n",
    "c=DoublyLinkedListnode(3)"
   ]
  },
  {
   "cell_type": "code",
   "execution_count": 10,
   "metadata": {},
   "outputs": [],
   "source": [
    "a.nextnode=b\n",
    "b.prevnode=a"
   ]
  },
  {
   "cell_type": "code",
   "execution_count": 11,
   "metadata": {},
   "outputs": [],
   "source": [
    "b.nextnode=c\n",
    "c.prevnode=b"
   ]
  },
  {
   "cell_type": "code",
   "execution_count": 14,
   "metadata": {},
   "outputs": [
    {
     "data": {
      "text/plain": [
       "1"
      ]
     },
     "execution_count": 14,
     "metadata": {},
     "output_type": "execute_result"
    }
   ],
   "source": [
    "c.prevnode.prevnode.value\n"
   ]
  },
  {
   "cell_type": "markdown",
   "metadata": {},
   "source": [
    "# Q1 Singly Linked list Cycle check"
   ]
  },
  {
   "cell_type": "code",
   "execution_count": 3,
   "metadata": {},
   "outputs": [],
   "source": [
    "class node(object):\n",
    "    \n",
    "    def __init__(self,value):\n",
    "        self.value=value\n",
    "        self.nextnode=None"
   ]
  },
  {
   "cell_type": "code",
   "execution_count": 4,
   "metadata": {},
   "outputs": [],
   "source": [
    "a=node(1)\n",
    "b=node(2)\n",
    "c=node(3) \n",
    "a.nextnode=b\n",
    "b.nextnode=c"
   ]
  },
  {
   "cell_type": "code",
   "execution_count": 5,
   "metadata": {},
   "outputs": [],
   "source": [
    "#my solution\n",
    "def Cyclecheck(node):\n",
    "    if node.nextnode==None:\n",
    "        return False\n",
    "    t=node.nextnode\n",
    "    while t!=node:\n",
    "        t=t.nextnode\n",
    "        if t.nextnode==None:\n",
    "            return False\n",
    "    return True"
   ]
  },
  {
   "cell_type": "code",
   "execution_count": 8,
   "metadata": {},
   "outputs": [
    {
     "name": "stdout",
     "output_type": "stream",
     "text": [
      "442 ns ± 92.8 ns per loop (mean ± std. dev. of 7 runs, 1000000 loops each)\n"
     ]
    }
   ],
   "source": [
    "%timeit Cyclecheck(c)"
   ]
  },
  {
   "cell_type": "code",
   "execution_count": 9,
   "metadata": {},
   "outputs": [],
   "source": [
    "# 2 pointer solution\n",
    "\n",
    "def cycle_check2(node):\n",
    "    marker1=node\n",
    "    marker2=node\n",
    "    while marker2!=None and marker2.nextnode!=None:\n",
    "        marker1=marker1.nextnode\n",
    "        marker2=marker2.nextnode.nextnode\n",
    "        if marker1==marker2:\n",
    "            return True\n",
    "    return False"
   ]
  },
  {
   "cell_type": "code",
   "execution_count": 10,
   "metadata": {},
   "outputs": [
    {
     "name": "stdout",
     "output_type": "stream",
     "text": [
      "728 ns ± 112 ns per loop (mean ± std. dev. of 7 runs, 1000000 loops each)\n"
     ]
    }
   ],
   "source": [
    "%timeit cycle_check2(c)"
   ]
  },
  {
   "cell_type": "markdown",
   "metadata": {},
   "source": [
    "# Q2 Linked List Reversal"
   ]
  },
  {
   "cell_type": "code",
   "execution_count": 151,
   "metadata": {},
   "outputs": [],
   "source": [
    "class node(object):\n",
    "    \n",
    "    def __init__(self,value):\n",
    "        self.value=value\n",
    "        self.nextnode=None\n",
    "        \n",
    "a=node(1)\n",
    "b=node(2)\n",
    "c=node(3) \n",
    "d=node(4)\n",
    "e=node(5)\n",
    "a.nextnode=b\n",
    "b.nextnode=c\n",
    "c.nextnode=d\n",
    "d.nextnode=e"
   ]
  },
  {
   "cell_type": "code",
   "execution_count": 79,
   "metadata": {},
   "outputs": [],
   "source": [
    "# My solution\n",
    "\n",
    "def LLreverse(head):\n",
    "    previous=None\n",
    "    while head!=None:\n",
    "        nextt=head.nextnode\n",
    "        head.nextnode=previous\n",
    "        previous=head\n",
    "        head=nextt                                                                                               "
   ]
  },
  {
   "cell_type": "code",
   "execution_count": 80,
   "metadata": {},
   "outputs": [],
   "source": [
    "LLreverse(a)"
   ]
  },
  {
   "cell_type": "code",
   "execution_count": 81,
   "metadata": {},
   "outputs": [
    {
     "name": "stdout",
     "output_type": "stream",
     "text": [
      "1\n",
      "2\n",
      "3\n",
      "4\n"
     ]
    }
   ],
   "source": [
    "print(b.nextnode.value)\n",
    "print(c.nextnode.value)\n",
    "print(d.nextnode.value)\n",
    "print(e.nextnode.value)"
   ]
  },
  {
   "cell_type": "markdown",
   "metadata": {},
   "source": [
    "# Q3 Nth to last node"
   ]
  },
  {
   "cell_type": "code",
   "execution_count": 101,
   "metadata": {},
   "outputs": [],
   "source": [
    "# We need to print value of node that is at nth position to the last node\n",
    "# My solutiom\n",
    "\n",
    "def nth_to_last_node(head,n):\n",
    "    length=0\n",
    "    current=head\n",
    "    while current:\n",
    "        length=length+1\n",
    "        current=current.nextnode\n",
    "    t=length-n\n",
    "    while t>0:\n",
    "        t=t-1\n",
    "        head=head.nextnode\n",
    "    return head.value\n",
    "        "
   ]
  },
  {
   "cell_type": "code",
   "execution_count": 102,
   "metadata": {},
   "outputs": [
    {
     "data": {
      "text/plain": [
       "4"
      ]
     },
     "execution_count": 102,
     "metadata": {},
     "output_type": "execute_result"
    }
   ],
   "source": [
    "nth_to_last_node(a,2)"
   ]
  },
  {
   "cell_type": "code",
   "execution_count": 163,
   "metadata": {},
   "outputs": [],
   "source": [
    "# Sexy solution by udemy\n",
    "\n",
    "def nth_to_last_node2(head,n):\n",
    "    right_pointer=head\n",
    "    left_pointer=head\n",
    "    for i in range(n):\n",
    "        if not right_pointer:\n",
    "            raise LookupError(\"Error: n is larger than the linked list\")\n",
    "        right_pointer=right_pointer.nextnode\n",
    "        #print(right_pointer.value)\n",
    "    while right_pointer:\n",
    "        right_pointer=right_pointer.nextnode\n",
    "        left_pointer=left_pointer.nextnode\n",
    "    return left_pointer.value\n",
    "    "
   ]
  },
  {
   "cell_type": "code",
   "execution_count": 164,
   "metadata": {},
   "outputs": [
    {
     "data": {
      "text/plain": [
       "2"
      ]
     },
     "execution_count": 164,
     "metadata": {},
     "output_type": "execute_result"
    }
   ],
   "source": [
    "nth_to_last_node2(a,4)"
   ]
  },
  {
   "cell_type": "code",
   "execution_count": null,
   "metadata": {},
   "outputs": [],
   "source": []
  }
 ],
 "metadata": {
  "kernelspec": {
   "display_name": "Python 3",
   "language": "python",
   "name": "python3"
  },
  "language_info": {
   "codemirror_mode": {
    "name": "ipython",
    "version": 3
   },
   "file_extension": ".py",
   "mimetype": "text/x-python",
   "name": "python",
   "nbconvert_exporter": "python",
   "pygments_lexer": "ipython3",
   "version": "3.8.5"
  }
 },
 "nbformat": 4,
 "nbformat_minor": 2
}
