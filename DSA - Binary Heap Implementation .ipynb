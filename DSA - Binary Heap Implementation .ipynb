{
 "cells": [
  {
   "cell_type": "markdown",
   "metadata": {},
   "source": [
    "# Binary Heap to implement priority queue"
   ]
  },
  {
   "cell_type": "code",
   "execution_count": 5,
   "metadata": {},
   "outputs": [],
   "source": [
    "class MinHeap:\n",
    "    \n",
    "    def __init__(self):\n",
    "        self.heaplist=[0]\n",
    "        self.currentsize=0\n",
    "    \n",
    "    #percUp function makes the node to check its value to its parent and swap happens accordingly, \n",
    "    #and iterates until it reaches the top of the tree \n",
    "    def percUp(self,i):\n",
    "        while i//2>0:\n",
    "            if self.heaplist[i]<self.heaplist[i//2]:\n",
    "                temp=self.heaplist[i]\n",
    "                self.heaplist[i]=self.heaplist[i//2]\n",
    "                self.heaplist[i//2]=temp\n",
    "            i=i//2\n",
    "    \n",
    "    #Insert method just adds the element at the end of tree and initiates the percUp function for that node, \n",
    "    #so that it moves up according to the heap property.\n",
    "    def insert(self,k):\n",
    "        self.heaplist.append(k)\n",
    "        self.currentsize=self.currentsize+1\n",
    "        self.percUp(self.currentsize)\n",
    "    \n",
    "    #percDown method moves the new root node or any other node down to satisfy the heap property,\n",
    "    #this happens b initiating minn method which returns the position of the least children of that node to enable swap.\n",
    "    def percDown(self,i):\n",
    "        while i*2<=self.currentsize:\n",
    "            t=self.minn(i)\n",
    "            if self.heaplist[i]>self.heaplist[t]:\n",
    "                temp=self.heaplist[i]\n",
    "                self.heaplist[i]=self.heaplist[t]\n",
    "                self.heaplist[t]=temp\n",
    "            i=t\n",
    "            \n",
    "    \n",
    "    def minn(self,i):\n",
    "        if i*2+1>self.currentsize:\n",
    "            return i*2\n",
    "        else:\n",
    "            if self.heaplist[i*2]>self.heaplist[i*2+1]:\n",
    "                return i*2+1\n",
    "            else:\n",
    "                return i*2\n",
    "        \n",
    "    #delMin method removes the minimum value element from the heap, which is at the root node \n",
    "    #and makes the last element of the heap as the new root node and initiates the percDown function at the new root node. \n",
    "    def delMin(self):\n",
    "        retval=self.heaplist[1]\n",
    "        self.currentsize=self.currentsize-1\n",
    "        new_root=self.heaplist.pop()\n",
    "        self.heaplist[1]=new_root\n",
    "        self.percDown(1)\n",
    "        return retval\n",
    "    \n",
    "    #By using percUp method from the middle of tree\n",
    "    def buildheap1(self,alist):\n",
    "        i = len(alist) // 2\n",
    "        self.currentsize = len(alist)\n",
    "        self.heaplist = [0] + alist[:]\n",
    "        while (i > 0):\n",
    "            self.percDown(i)\n",
    "            i = i - 1\n",
    "    \n",
    "    #By using percDown method from the middle of tree\n",
    "    def buildheap2(self,alist):\n",
    "        i=len(alist)//2\n",
    "        self.currentsize=len(alist)\n",
    "        self.heaplist=[0]+alist[:]\n",
    "        while(i<=self.currentsize):\n",
    "            self.percUp(i)\n",
    "            i=i+1\n",
    "           \n",
    "    #By inserting every element one at a time, by using insert class of this method\n",
    "    def buildheap3(self,lis):\n",
    "        for i in lis:\n",
    "            self.insert(i)\n",
    "            \n",
    "    #All the three binary heap formation methods produce three different binary heaps."
   ]
  },
  {
   "cell_type": "code",
   "execution_count": 18,
   "metadata": {},
   "outputs": [],
   "source": [
    "a=MinHeap()"
   ]
  },
  {
   "cell_type": "code",
   "execution_count": 19,
   "metadata": {},
   "outputs": [],
   "source": [
    "a.buildheap1([9,6,5,2,3,1])"
   ]
  },
  {
   "cell_type": "code",
   "execution_count": 20,
   "metadata": {},
   "outputs": [
    {
     "data": {
      "text/plain": [
       "[0, 1, 2, 5, 6, 3, 9]"
      ]
     },
     "execution_count": 20,
     "metadata": {},
     "output_type": "execute_result"
    }
   ],
   "source": [
    "a.heaplist"
   ]
  },
  {
   "cell_type": "code",
   "execution_count": 21,
   "metadata": {},
   "outputs": [],
   "source": [
    "b=MinHeap()"
   ]
  },
  {
   "cell_type": "code",
   "execution_count": 22,
   "metadata": {},
   "outputs": [],
   "source": [
    "b.buildheap2([9,6,5,2,3,1])"
   ]
  },
  {
   "cell_type": "code",
   "execution_count": 23,
   "metadata": {},
   "outputs": [
    {
     "data": {
      "text/plain": [
       "[0, 1, 3, 2, 6, 5, 9]"
      ]
     },
     "execution_count": 23,
     "metadata": {},
     "output_type": "execute_result"
    }
   ],
   "source": [
    "b.heaplist"
   ]
  },
  {
   "cell_type": "code",
   "execution_count": 24,
   "metadata": {},
   "outputs": [],
   "source": [
    "c=MinHeap()"
   ]
  },
  {
   "cell_type": "code",
   "execution_count": 25,
   "metadata": {},
   "outputs": [],
   "source": [
    "c.buildheap3([9,6,5,2,3,1])"
   ]
  },
  {
   "cell_type": "code",
   "execution_count": 26,
   "metadata": {},
   "outputs": [
    {
     "data": {
      "text/plain": [
       "[0, 1, 3, 2, 9, 5, 6]"
      ]
     },
     "execution_count": 26,
     "metadata": {},
     "output_type": "execute_result"
    }
   ],
   "source": [
    "c.heaplist"
   ]
  },
  {
   "cell_type": "code",
   "execution_count": null,
   "metadata": {},
   "outputs": [],
   "source": []
  }
 ],
 "metadata": {
  "kernelspec": {
   "display_name": "Python 3",
   "language": "python",
   "name": "python3"
  },
  "language_info": {
   "codemirror_mode": {
    "name": "ipython",
    "version": 3
   },
   "file_extension": ".py",
   "mimetype": "text/x-python",
   "name": "python",
   "nbconvert_exporter": "python",
   "pygments_lexer": "ipython3",
   "version": "3.8.5"
  }
 },
 "nbformat": 4,
 "nbformat_minor": 4
}
