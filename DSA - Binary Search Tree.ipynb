{
 "cells": [
  {
   "cell_type": "markdown",
   "metadata": {},
   "source": [
    "# Binary Search Tree Implementation"
   ]
  },
  {
   "cell_type": "code",
   "execution_count": 9,
   "metadata": {},
   "outputs": [],
   "source": [
    "class TreeNode:\n",
    "    \n",
    "    def __init__(self,key,val,left=None,right=None,parent=None):\n",
    "        self.key=key\n",
    "        self.payload=val\n",
    "        self.leftchild=left\n",
    "        self.rightchild=right\n",
    "        self.parent=parent\n",
    "        \n",
    "    def hasleftchild(self):\n",
    "        return self.leftchild\n",
    "    \n",
    "    def hasrightchild(self):\n",
    "        return self.rightchild\n",
    "    \n",
    "    def hasanychildren(self):\n",
    "        return self.rightchild or self.leftchild \n",
    "    \n",
    "    def hasbothchildren(self):\n",
    "        return self.rightchild and self.leftchild \n",
    "    \n",
    "    def isleftchild(self):\n",
    "        return self.parent and self.parent.leftchild==self\n",
    "    \n",
    "    def isrightchild(self):\n",
    "        return self.parent and self.parent.rightchild==self\n",
    "    \n",
    "    def isroot(self):\n",
    "        return not(self.parent)\n",
    "    \n",
    "    def isleaf(self):\n",
    "        return not(self.rightchild or self.leftchild) and not(self.isroot())\n",
    "    \n",
    "    def replaceNodeData(self,key,val,lc,rc):\n",
    "        self.key=key\n",
    "        self.payload=val\n",
    "        self.leftchild=lc\n",
    "        self.rightchild=rc\n",
    "        if self.hasleftchild():\n",
    "            self.leftchild.parent=self\n",
    "        if self.hasrightchild():\n",
    "            self.rightchild.parent=self\n",
    "            \n",
    "    #When deleting a node with two children in a binary search tree, we need to find the successor of the that node, \n",
    "    #successor is the node that comes after the inorder traversal of the subtree where the element to be deleted \n",
    "    #is considered as node, we can also use the predessor to replace that node, here we used the successor, \n",
    "    #in simple words, successor is the least element in the right subtree of the node to be deleted.\n",
    "    \n",
    "    def findsuccessor(self):\n",
    "        succ=None\n",
    "        current=self\n",
    "        if current.hasrightchild():\n",
    "            current=current.rightchild\n",
    "            while(current.hasleftchild()):\n",
    "                current=current.leftchild\n",
    "            succ=current\n",
    "            return succ\n",
    "            \n",
    "    #This method, deletes the successor element from the BST and preserves the BST property\n",
    "    def spliceout(self):\n",
    "        if self.isleaf():\n",
    "            if self.isleftchild():\n",
    "                self.parent.leftchild=None\n",
    "            else:\n",
    "                self.parent.rightchild=None\n",
    "        elif self.hasrightchild():\n",
    "            if self.isleftchild():\n",
    "                self.parent.leftchild=self.rightchild\n",
    "                self.rightchild.parent=self.parent\n",
    "            elif currentnode.isrightchild():\n",
    "                self.parent.rightchild=self.rightchild\n",
    "                self.rightchild.parent=self.parent\n",
    "            \n",
    "            \n",
    "            \n",
    "class BinarySearchTree:\n",
    "    \n",
    "    def __init__(self):\n",
    "        self.root=None\n",
    "        self.size=0\n",
    "        \n",
    "    def length(self):\n",
    "        return self.size\n",
    "    \n",
    "    #This methos inserts elements into by satisfying BST property, using other _put method.\n",
    "    def put(self,key,val):\n",
    "        if self.root:\n",
    "            self._put(key,val,self.root)\n",
    "        else:\n",
    "            self.root=TreeNode(key,val)\n",
    "        self.size=self.size+1\n",
    "    \n",
    "    def _put(self,key,val,currentnode):\n",
    "        if key<currentnode.key:\n",
    "            if currentnode.hasleftchild():\n",
    "                self._put(key,val,currentnode.leftchild)\n",
    "            else:\n",
    "                currentnode.leftchild=TreeNode(key,val,parent=currentnode)\n",
    "        else: \n",
    "            if currentnode.hasrightchild():\n",
    "                self._put(key,val,currentnode.rightchild)\n",
    "            else:\n",
    "                currentnode.rightchild=TreeNode(key,val,parent=currentnode)\n",
    "    \n",
    "    #This method gets the value for the given key, by traversing through the BST, by using other method _get\n",
    "    def get(self,key):\n",
    "        if self.root:\n",
    "            res=self._get(key,self.root)\n",
    "            if res:\n",
    "                return res.payload\n",
    "            else:\n",
    "                return None\n",
    "        else:\n",
    "            return None\n",
    "    \n",
    "    def _get(self,key,currentnode):\n",
    "        if not currentnode:\n",
    "            return None\n",
    "        elif key==currentnode.key:\n",
    "            return currentnode\n",
    "        elif key<currentnode.key:\n",
    "            return self._get(key,currentnode.leftchild)\n",
    "        else:\n",
    "            return self._get(key,currentnode.rightchild)\n",
    "            \n",
    "    #checks whether a key is in the BST or not\n",
    "    def contains(self,key):\n",
    "        if self._get(key,self.root):\n",
    "            return True\n",
    "        else:\n",
    "            return False\n",
    "        \n",
    "    #Initiates the delete operation of a node for a given key\n",
    "    def delete(self,key):\n",
    "        if self.size>1:\n",
    "            node_to_remove=self._get(key,self.root)\n",
    "            if node_to_remove:\n",
    "                self.remove(node_to_remove)\n",
    "                self.size=self.size-1\n",
    "        elif self.size==1 and self.root.key==key:\n",
    "            self.root=None\n",
    "            self.size=self.size-1\n",
    "        else:\n",
    "            raise KeyError(\"Error, key not in tree\")\n",
    "    \n",
    "    #This method actually removes the desired node initiated from delete method and has three cases.             \n",
    "    def remove(self,currentnode):\n",
    "        #1st case: To delete a leaf node - You just remove the connection from the parent node\n",
    "        if currentnode.isleaf():\n",
    "            if currentnode.isleftchild():\n",
    "                currentnode.parent.leftchild=None\n",
    "            else:\n",
    "                currentnode.parent.rightchild=None\n",
    "        \n",
    "        #2nd case: To delete a node that has both children - In this case, first we find the successor of the node to be deleted\n",
    "        # and remove that succ from BST, and finally changes the node data of the node to that successor and thereby deleting\n",
    "        # required node.\n",
    "        elif currentnode.hasbothchildren():\n",
    "            succ=currentnode.findsuccessor()\n",
    "            succ.spliceout()\n",
    "            currentnode.key=succ.key\n",
    "            currentnode.payload=succ.payload\n",
    "        \n",
    "        #3rd case: To delete a node, that has only child - In this case you just make the connection between \n",
    "        #deleting node's parent to deleting node's child accordingly.\n",
    "        else:\n",
    "            if currentnode.hasleftchild():\n",
    "                if currentnode.isleftchild():\n",
    "                    currentnode.parent.leftchild=currentnode.leftchild\n",
    "                    currentnode.leftchild.parent=currentnode.parent\n",
    "                elif currentnode.isrightchild():\n",
    "                    currentnode.parent.rightchild=currentnode.leftchild\n",
    "                    currentnode.leftchild.parent=currentnode.parent\n",
    "                #this final else is for the root node which has only one left child\n",
    "                else:\n",
    "                    currentnode.replaceNodeData(currentnode.leftchild.key,\n",
    "                                                currentnode.leftchild.payload,\n",
    "                                                currentnode.leftchild.leftchild,\n",
    "                                                currentnode.leftchild.rightchild)\n",
    "            elif currentnode.hasrightchild():\n",
    "                if currentnode.isleftchild():\n",
    "                    currentnode.parent.leftchild=currentnode.rightchild\n",
    "                    currentnode.rightchild.parent=currentnode.parent\n",
    "                elif currentnode.isrightchild():\n",
    "                    currentnode.parent.rightchild=currentnode.rightchild\n",
    "                    currentnode.rightchild.parent=currentnode.parent\n",
    "                #this final else is for the root node which has only one right child\n",
    "                else:\n",
    "                    currentnode.replaceNodeData(currentnode.rightchild.key,\n",
    "                                                currentnode.rightchild.payload,\n",
    "                                                currentnode.rightchild.leftchild,\n",
    "                                                currentnode.rightchild.rightchild)\n",
    "                \n",
    "        "
   ]
  },
  {
   "cell_type": "code",
   "execution_count": 10,
   "metadata": {},
   "outputs": [],
   "source": [
    "btree=BinarySearchTree()"
   ]
  },
  {
   "cell_type": "code",
   "execution_count": 11,
   "metadata": {},
   "outputs": [],
   "source": [
    "btree.put(70,'a')\n",
    "btree.put(31,'b')\n",
    "btree.put(93,'c')\n",
    "btree.put(98,'d')\n",
    "btree.put(14,'e')\n",
    "btree.put(23,'f')\n",
    "btree.put(73,'g')\n",
    "btree.put(95,'h')\n",
    "btree.put(100,'i')\n",
    "btree.put(94,'j')"
   ]
  },
  {
   "cell_type": "code",
   "execution_count": 12,
   "metadata": {},
   "outputs": [],
   "source": [
    "btree.delete(70)"
   ]
  },
  {
   "cell_type": "code",
   "execution_count": null,
   "metadata": {},
   "outputs": [],
   "source": []
  },
  {
   "cell_type": "markdown",
   "metadata": {},
   "source": [
    "# Interview Problems"
   ]
  },
  {
   "cell_type": "markdown",
   "metadata": {},
   "source": [
    "# 1. Given a binary tree, check whethere it is a Binary search tree or not"
   ]
  },
  {
   "cell_type": "code",
   "execution_count": 15,
   "metadata": {},
   "outputs": [
    {
     "ename": "AttributeError",
     "evalue": "'BinarySearchTree' object has no attribute 'leftchild'",
     "output_type": "error",
     "traceback": [
      "\u001b[0;31m---------------------------------------------------------------------------\u001b[0m",
      "\u001b[0;31mAttributeError\u001b[0m                            Traceback (most recent call last)",
      "\u001b[0;32m/var/folders/wr/mf8_qbg93zj0h73dgs589bl80000gn/T/ipykernel_46738/1253369467.py\u001b[0m in \u001b[0;36m<module>\u001b[0;34m\u001b[0m\n\u001b[1;32m     14\u001b[0m \u001b[0;34m\u001b[0m\u001b[0m\n\u001b[1;32m     15\u001b[0m \u001b[0;34m\u001b[0m\u001b[0m\n\u001b[0;32m---> 16\u001b[0;31m \u001b[0minorder\u001b[0m\u001b[0;34m(\u001b[0m\u001b[0mtree\u001b[0m\u001b[0;34m)\u001b[0m\u001b[0;34m\u001b[0m\u001b[0;34m\u001b[0m\u001b[0m\n\u001b[0m\u001b[1;32m     17\u001b[0m \u001b[0mBSTcheck\u001b[0m\u001b[0;34m(\u001b[0m\u001b[0mtree_vals\u001b[0m\u001b[0;34m)\u001b[0m\u001b[0;34m\u001b[0m\u001b[0;34m\u001b[0m\u001b[0m\n",
      "\u001b[0;32m/var/folders/wr/mf8_qbg93zj0h73dgs589bl80000gn/T/ipykernel_46738/1253369467.py\u001b[0m in \u001b[0;36minorder\u001b[0;34m(tree)\u001b[0m\n\u001b[1;32m      6\u001b[0m \u001b[0;32mdef\u001b[0m \u001b[0minorder\u001b[0m\u001b[0;34m(\u001b[0m\u001b[0mtree\u001b[0m\u001b[0;34m)\u001b[0m\u001b[0;34m:\u001b[0m\u001b[0;34m\u001b[0m\u001b[0;34m\u001b[0m\u001b[0m\n\u001b[1;32m      7\u001b[0m     \u001b[0;32mif\u001b[0m \u001b[0mtree\u001b[0m\u001b[0;34m:\u001b[0m\u001b[0;34m\u001b[0m\u001b[0;34m\u001b[0m\u001b[0m\n\u001b[0;32m----> 8\u001b[0;31m         \u001b[0minorder\u001b[0m\u001b[0;34m(\u001b[0m\u001b[0mtree\u001b[0m\u001b[0;34m.\u001b[0m\u001b[0mleftchild\u001b[0m\u001b[0;34m)\u001b[0m\u001b[0;34m\u001b[0m\u001b[0;34m\u001b[0m\u001b[0m\n\u001b[0m\u001b[1;32m      9\u001b[0m         \u001b[0mtree_vals\u001b[0m\u001b[0;34m.\u001b[0m\u001b[0mappend\u001b[0m\u001b[0;34m(\u001b[0m\u001b[0mtree\u001b[0m\u001b[0;34m.\u001b[0m\u001b[0mgetRootVal\u001b[0m\u001b[0;34m)\u001b[0m\u001b[0;34m\u001b[0m\u001b[0;34m\u001b[0m\u001b[0m\n\u001b[1;32m     10\u001b[0m         \u001b[0minorder\u001b[0m\u001b[0;34m(\u001b[0m\u001b[0mtree\u001b[0m\u001b[0;34m.\u001b[0m\u001b[0mrightchild\u001b[0m\u001b[0;34m)\u001b[0m\u001b[0;34m\u001b[0m\u001b[0;34m\u001b[0m\u001b[0m\n",
      "\u001b[0;31mAttributeError\u001b[0m: 'BinarySearchTree' object has no attribute 'leftchild'"
     ]
    }
   ],
   "source": [
    "#Solution 1\n",
    "\n",
    "tree_vals=[]\n",
    "\n",
    "tree = btree;\n",
    "def inorder(tree):\n",
    "    if tree:\n",
    "        inorder(tree.leftchild)\n",
    "        tree_vals.append(tree.getRootVal)\n",
    "        inorder(tree.rightchild)\n",
    "        \n",
    "def BSTcheck(tree_vals):\n",
    "    return tree_vals==sorted(tree_vals)\n",
    "    \n",
    "\n",
    "inorder(tree)\n",
    "BSTcheck(tree_vals)\n"
   ]
  },
  {
   "cell_type": "code",
   "execution_count": 16,
   "metadata": {},
   "outputs": [],
   "source": [
    "#Solution 2 - Best solution than the udemy video\n",
    "\n",
    "class node:\n",
    "    def __init__(self,val):\n",
    "        self.val=val\n",
    "        self.left=None\n",
    "        self.right=None\n",
    "\n",
    "    \n",
    "def verifyBST(node,lower=float('-inf'),upper=float('inf')):\n",
    "        if not node:\n",
    "            return True\n",
    "        val=node.val\n",
    "        if lower>=val or val>=upper:\n",
    "            return False\n",
    "        \n",
    "        if not helper(node.left,lower,val):\n",
    "            return False\n",
    "        \n",
    "        if not helper(node.right,val,upper):\n",
    "            return False\n",
    "        \n",
    "        return True\n",
    "        "
   ]
  },
  {
   "cell_type": "code",
   "execution_count": 17,
   "metadata": {},
   "outputs": [],
   "source": [
    "root=node(2)\n",
    "root.left=node(1)\n",
    "root.right=node(3)\n",
    "root.right.left=node(1)\n"
   ]
  },
  {
   "cell_type": "code",
   "execution_count": 18,
   "metadata": {},
   "outputs": [
    {
     "ename": "NameError",
     "evalue": "name 'helper' is not defined",
     "output_type": "error",
     "traceback": [
      "\u001b[0;31m---------------------------------------------------------------------------\u001b[0m",
      "\u001b[0;31mNameError\u001b[0m                                 Traceback (most recent call last)",
      "\u001b[0;32m/var/folders/wr/mf8_qbg93zj0h73dgs589bl80000gn/T/ipykernel_46738/3234632072.py\u001b[0m in \u001b[0;36m<module>\u001b[0;34m\u001b[0m\n\u001b[0;32m----> 1\u001b[0;31m \u001b[0mverifyBST\u001b[0m\u001b[0;34m(\u001b[0m\u001b[0mroot\u001b[0m\u001b[0;34m)\u001b[0m\u001b[0;34m\u001b[0m\u001b[0;34m\u001b[0m\u001b[0m\n\u001b[0m",
      "\u001b[0;32m/var/folders/wr/mf8_qbg93zj0h73dgs589bl80000gn/T/ipykernel_46738/1734163621.py\u001b[0m in \u001b[0;36mverifyBST\u001b[0;34m(node, lower, upper)\u001b[0m\n\u001b[1;32m     15\u001b[0m             \u001b[0;32mreturn\u001b[0m \u001b[0;32mFalse\u001b[0m\u001b[0;34m\u001b[0m\u001b[0;34m\u001b[0m\u001b[0m\n\u001b[1;32m     16\u001b[0m \u001b[0;34m\u001b[0m\u001b[0m\n\u001b[0;32m---> 17\u001b[0;31m         \u001b[0;32mif\u001b[0m \u001b[0;32mnot\u001b[0m \u001b[0mhelper\u001b[0m\u001b[0;34m(\u001b[0m\u001b[0mnode\u001b[0m\u001b[0;34m.\u001b[0m\u001b[0mleft\u001b[0m\u001b[0;34m,\u001b[0m\u001b[0mlower\u001b[0m\u001b[0;34m,\u001b[0m\u001b[0mval\u001b[0m\u001b[0;34m)\u001b[0m\u001b[0;34m:\u001b[0m\u001b[0;34m\u001b[0m\u001b[0;34m\u001b[0m\u001b[0m\n\u001b[0m\u001b[1;32m     18\u001b[0m             \u001b[0;32mreturn\u001b[0m \u001b[0;32mFalse\u001b[0m\u001b[0;34m\u001b[0m\u001b[0;34m\u001b[0m\u001b[0m\n\u001b[1;32m     19\u001b[0m \u001b[0;34m\u001b[0m\u001b[0m\n",
      "\u001b[0;31mNameError\u001b[0m: name 'helper' is not defined"
     ]
    }
   ],
   "source": [
    "verifyBST(root)"
   ]
  },
  {
   "cell_type": "markdown",
   "metadata": {},
   "source": [
    "# 2.Tree level order print"
   ]
  },
  {
   "cell_type": "code",
   "execution_count": 19,
   "metadata": {},
   "outputs": [],
   "source": [
    "#best solution than udemy video\n",
    "\n",
    "class node:\n",
    "    def __init__(self,val):\n",
    "        self.val=val\n",
    "        self.left=None\n",
    "        self.right=None\n",
    "\n",
    "def TreeLOP(root):\n",
    "    currentnode=root\n",
    "    que=[root]\n",
    "    currentcount=1  #no. of nodes in current row of tree\n",
    "    nextcount=0     #no. of nodes in next row of tree\n",
    "    while(currentnode):\n",
    "        if currentnode in que:\n",
    "            que.pop(0)\n",
    "            currentcount=currentcount-1\n",
    "        print(currentnode.val,end=\" \")\n",
    "        if currentnode.left:\n",
    "            que.append(currentnode.left)\n",
    "            nextcount=nextcount+1\n",
    "        if currentnode.right:\n",
    "            que.append(currentnode.right)\n",
    "            nextcount=nextcount+1\n",
    "        if currentcount==0:\n",
    "            print(\"\\n\")\n",
    "            currentcount=nextcount\n",
    "            nextcount=0\n",
    "        if not que:\n",
    "            break\n",
    "        currentnode=que[0]\n",
    "        "
   ]
  },
  {
   "cell_type": "code",
   "execution_count": 20,
   "metadata": {},
   "outputs": [],
   "source": [
    "root=node(5)\n",
    "root.left=node(3)\n",
    "root.right=node(7)\n",
    "root.left.left=node(4)\n",
    "root.left.right=node(34)\n",
    "root.right.left=node(55)\n",
    "root.left.left.left=node(77)\n"
   ]
  },
  {
   "cell_type": "code",
   "execution_count": 21,
   "metadata": {},
   "outputs": [
    {
     "name": "stdout",
     "output_type": "stream",
     "text": [
      "5 \n",
      "\n",
      "3 7 \n",
      "\n",
      "4 34 55 \n",
      "\n",
      "77 \n",
      "\n"
     ]
    }
   ],
   "source": [
    "TreeLOP(root)"
   ]
  },
  {
   "cell_type": "markdown",
   "metadata": {},
   "source": [
    "# 3. Trim a Binary Search tree"
   ]
  },
  {
   "cell_type": "code",
   "execution_count": null,
   "metadata": {},
   "outputs": [],
   "source": [
    "# we need to delete nodes that are not in the range of given min value and max value\n",
    "# so the basic idea is:\n",
    "# 1) we traverse throught the tree through post order traversal\n",
    "# 2) then if the node is in boundaries, we dont return anything\n",
    "# 3) but if it is less than minimum value, it's left subtree becomes invalid and and we replace it with it's right subtree\n",
    "# 4) Similarly if it is more than maximum value, it's right subtree becomes invalid and and we replace it with it's left subtree\n",
    "\n",
    "class node:\n",
    "    def __init__(self,val):\n",
    "        self.val=val\n",
    "        self.left=None\n",
    "        self.right=None\n",
    "        \n",
    "def trimBST(tree,minval,maxval):\n",
    "    if not tree:\n",
    "        return None\n",
    "    \n",
    "    tree.left=trimBST(tree.left,minval,maxval)\n",
    "    tree.right=trimBST(tree.right,minval,maxval)\n",
    "    \n",
    "    if minval<=tree.val<=maxval:\n",
    "        return tree\n",
    "    \n",
    "    if tree.val<minval:\n",
    "        return tree.right\n",
    "    \n",
    "    if tree.val>maxval:\n",
    "        return tree.left\n",
    "    \n",
    "    "
   ]
  },
  {
   "cell_type": "markdown",
   "metadata": {},
   "source": [
    "# Breadth first search traversal for Binary tree "
   ]
  },
  {
   "cell_type": "code",
   "execution_count": null,
   "metadata": {},
   "outputs": [],
   "source": [
    "def isCompleteTree(root: TreeNode):\n",
    "    q=[root]\n",
    "    while(q):\n",
    "        node=q.pop(0)\n",
    "        print(node.val)\n",
    "        if node.left:\n",
    "            q.append(node.left)\n",
    "        if node.right:\n",
    "            q.append(node.right)"
   ]
  },
  {
   "cell_type": "code",
   "execution_count": null,
   "metadata": {},
   "outputs": [],
   "source": []
  }
 ],
 "metadata": {
  "kernelspec": {
   "display_name": "Python 3 (ipykernel)",
   "language": "python",
   "name": "python3"
  },
  "language_info": {
   "codemirror_mode": {
    "name": "ipython",
    "version": 3
   },
   "file_extension": ".py",
   "mimetype": "text/x-python",
   "name": "python",
   "nbconvert_exporter": "python",
   "pygments_lexer": "ipython3",
   "version": "3.9.7"
  }
 },
 "nbformat": 4,
 "nbformat_minor": 4
}
