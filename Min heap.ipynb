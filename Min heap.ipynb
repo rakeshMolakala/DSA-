{
 "cells": [
  {
   "cell_type": "markdown",
   "id": "0f8dd2bc",
   "metadata": {},
   "source": [
    "## Implementation of Binary heap (Min Heap)"
   ]
  },
  {
   "cell_type": "code",
   "execution_count": 48,
   "id": "207d7a39",
   "metadata": {},
   "outputs": [],
   "source": [
    "class minHeap:\n",
    "    def __init__(self,capacity):\n",
    "        self.capacity=capacity\n",
    "        self.heap=[0]*capacity\n",
    "        self.size=0\n",
    "    \n",
    "    def getParentIndex(self,index):\n",
    "        return (index-1)//2\n",
    "    \n",
    "    #gets left child index\n",
    "    def getLCI(self,index):\n",
    "        return 2*index+1\n",
    "    \n",
    "    #gets right child index\n",
    "    def getRCI(self,index):\n",
    "        return 2*index+2\n",
    "    \n",
    "    def hasParent(self,index):\n",
    "        return self.getParentIndex(index)>=0\n",
    "    \n",
    "    def hasLeft(self,index):\n",
    "        return self.getLCI(index)<self.size\n",
    "    \n",
    "    def hasRight(self,index):\n",
    "        return self.getRCI(index)<self.size\n",
    "    \n",
    "    def getParent(self,index):\n",
    "        return self.heap[self.getParentIndex(index)]\n",
    "    \n",
    "    def getLeft(self,index):\n",
    "        return self.heap[self.getLCI(index)]\n",
    "    \n",
    "    def getRight(self,index):\n",
    "        return self.heap[self.getRCI(index)]\n",
    "    \n",
    "    def isFull(self):\n",
    "        return self.size==self.capacity\n",
    "    \n",
    "    def swap(self,index1,index2):\n",
    "        self.heap[index1],self.heap[index2]=self.heap[index2],self.heap[index1]\n",
    "        \n",
    "    def insert(self,data):\n",
    "        if(self.isFull()):\n",
    "            print(\"Heap is Full\")\n",
    "            return \n",
    "        self.heap[self.size]=data\n",
    "        self.size+=1\n",
    "        self.heapifyUp()\n",
    "        \n",
    "    def heapifyUp(self):\n",
    "        index=self.size-1\n",
    "        while(self.hasParent(index) and self.getParent(index)>self.heap[index]):\n",
    "            self.swap(index,self.getParentIndex(index))\n",
    "            index=self.getParentIndex(index)\n",
    "            \n",
    "    def getMin(self):\n",
    "        if(self.size)>0:\n",
    "            return self.heap[0]\n",
    "        \n",
    "    def removeMin(self):\n",
    "        if(self.size==0):\n",
    "            print(\"Heap is empty\")\n",
    "            return\n",
    "        data = self.heap[0]\n",
    "        self.heap[0]=self.heap[self.size-1]\n",
    "        self.size-=1\n",
    "        self.heapifyDown()\n",
    "        return data\n",
    "        \n",
    "    def heapifyDown(self):\n",
    "        index=0\n",
    "        while(self.hasLeft(index)):\n",
    "            smallChild=self.getLCI(index)\n",
    "            if(self.hasRight(index) and \n",
    "               self.heap[self.getRCI(index)]<self.heap[self.getLCI(index)]):\n",
    "                smallChild=self.hasRight(index)\n",
    "            if(self.heap[index]>self.heap[smallChild]):\n",
    "                self.swap(index,smallChild)\n",
    "                index=smallChild\n",
    "                \n",
    "                \n",
    "#         while(self.heap[index]> self.heap[self.getLCI(index)] \n",
    "#               or self.heap[index]> self.heap[self.getRCI(index)]):\n",
    "#             if(self.heap[self.getLCI(index)]>self.heap[self.getRCI(index)]):\n",
    "#                                                       self.swap(index,self.getRCI(index))\n",
    "#                                                       index=self.getRCI(index)\n",
    "#             else:\n",
    "#                                                       self.swap(index,self.getLCI(index))\n",
    "#                                                       index=self.getLCI(index)\n"
   ]
  },
  {
   "cell_type": "code",
   "execution_count": 49,
   "id": "3bd2d81d",
   "metadata": {},
   "outputs": [],
   "source": [
    "h=minHeap(6)"
   ]
  },
  {
   "cell_type": "code",
   "execution_count": 50,
   "id": "b31dbbb4",
   "metadata": {},
   "outputs": [],
   "source": [
    "h.insert(1)"
   ]
  },
  {
   "cell_type": "code",
   "execution_count": 51,
   "id": "9998eb26",
   "metadata": {},
   "outputs": [],
   "source": [
    "h.insert(5)\n",
    "h.insert(10)\n",
    "h.insert(2)"
   ]
  },
  {
   "cell_type": "code",
   "execution_count": 52,
   "id": "60a95d7e",
   "metadata": {},
   "outputs": [
    {
     "name": "stdout",
     "output_type": "stream",
     "text": [
      "[1, 2, 10, 5, 0, 0]\n"
     ]
    }
   ],
   "source": [
    "print(h.heap)"
   ]
  },
  {
   "cell_type": "code",
   "execution_count": 53,
   "id": "8f79145b",
   "metadata": {},
   "outputs": [
    {
     "name": "stdout",
     "output_type": "stream",
     "text": [
      "[1, 2, 4, 5, 6, 10]\n"
     ]
    }
   ],
   "source": [
    "h.insert(6)\n",
    "h.insert(4)\n",
    "print(h.heap)"
   ]
  },
  {
   "cell_type": "code",
   "execution_count": 54,
   "id": "ffc4c293",
   "metadata": {},
   "outputs": [
    {
     "data": {
      "text/plain": [
       "1"
      ]
     },
     "execution_count": 54,
     "metadata": {},
     "output_type": "execute_result"
    }
   ],
   "source": [
    "h.removeMin()"
   ]
  },
  {
   "cell_type": "code",
   "execution_count": 55,
   "id": "8ca8cef3",
   "metadata": {},
   "outputs": [
    {
     "name": "stdout",
     "output_type": "stream",
     "text": [
      "[2, 5, 4, 10, 6, 10]\n"
     ]
    }
   ],
   "source": [
    "print(h.heap)"
   ]
  },
  {
   "cell_type": "code",
   "execution_count": 56,
   "id": "ae698160",
   "metadata": {},
   "outputs": [
    {
     "name": "stdout",
     "output_type": "stream",
     "text": [
      "[2, 5, 4, 10, 6, 20]\n"
     ]
    }
   ],
   "source": [
    "h.insert(20)\n",
    "print(h.heap)"
   ]
  },
  {
   "cell_type": "code",
   "execution_count": 57,
   "id": "355473bd",
   "metadata": {},
   "outputs": [
    {
     "data": {
      "text/plain": [
       "2"
      ]
     },
     "execution_count": 57,
     "metadata": {},
     "output_type": "execute_result"
    }
   ],
   "source": [
    "h.getMin()"
   ]
  },
  {
   "cell_type": "markdown",
   "id": "3ff15eb5",
   "metadata": {},
   "source": [
    "## Heaps using library"
   ]
  },
  {
   "cell_type": "code",
   "execution_count": 58,
   "id": "9ba34be8",
   "metadata": {},
   "outputs": [
    {
     "name": "stdout",
     "output_type": "stream",
     "text": [
      "[1, 3, 2, 10, 5, 8, 4]\n"
     ]
    }
   ],
   "source": [
    "import heapq\n",
    "\n",
    "l=[1,3,4,10,5,8,2]\n",
    "heapq.heapify(l)\n",
    "print(l)"
   ]
  },
  {
   "cell_type": "code",
   "execution_count": 59,
   "id": "546f2a1f",
   "metadata": {},
   "outputs": [],
   "source": [
    "heapq.heappush(l,7)"
   ]
  },
  {
   "cell_type": "code",
   "execution_count": 60,
   "id": "7ab43819",
   "metadata": {},
   "outputs": [
    {
     "name": "stdout",
     "output_type": "stream",
     "text": [
      "[1, 3, 2, 7, 5, 8, 4, 10]\n"
     ]
    }
   ],
   "source": [
    "print(l)"
   ]
  },
  {
   "cell_type": "code",
   "execution_count": 61,
   "id": "a1322e0d",
   "metadata": {},
   "outputs": [
    {
     "data": {
      "text/plain": [
       "1"
      ]
     },
     "execution_count": 61,
     "metadata": {},
     "output_type": "execute_result"
    }
   ],
   "source": [
    "heapq.heappop(l)"
   ]
  },
  {
   "cell_type": "code",
   "execution_count": 62,
   "id": "50cd20a1",
   "metadata": {},
   "outputs": [
    {
     "name": "stdout",
     "output_type": "stream",
     "text": [
      "[2, 3, 4, 7, 5, 8, 10]\n"
     ]
    }
   ],
   "source": [
    "print(l)"
   ]
  },
  {
   "cell_type": "code",
   "execution_count": 63,
   "id": "1c7dc755",
   "metadata": {},
   "outputs": [
    {
     "data": {
      "text/plain": [
       "1"
      ]
     },
     "execution_count": 63,
     "metadata": {},
     "output_type": "execute_result"
    }
   ],
   "source": [
    "# pushes the element and then pops the min element \n",
    "heapq.heappushpop(l,1)"
   ]
  },
  {
   "cell_type": "code",
   "execution_count": 64,
   "id": "b7a16702",
   "metadata": {},
   "outputs": [
    {
     "data": {
      "text/plain": [
       "2"
      ]
     },
     "execution_count": 64,
     "metadata": {},
     "output_type": "execute_result"
    }
   ],
   "source": [
    "# pops the min element and the pushes given element\n",
    "heapq.heapreplace(l,6)"
   ]
  },
  {
   "cell_type": "code",
   "execution_count": 2,
   "id": "34715bd5",
   "metadata": {},
   "outputs": [
    {
     "name": "stdout",
     "output_type": "stream",
     "text": [
      "[(499, 'Compaq'), (530, 'Dell')]\n"
     ]
    }
   ],
   "source": [
    "# we can also use heapq to get top largest numbers in a python dictionary\n",
    "import heapq\n",
    "laptop_costs = {\n",
    "    'Compaq':499,\n",
    "    'Dell':530,\n",
    "    'Apple':999,\n",
    "    'HP':750,\n",
    "    'ASUS':650\n",
    "}\n",
    "\n",
    "# The 2 cheapest laptops\n",
    "key_values = zip(laptop_costs.values(), laptop_costs.keys())\n",
    "print(heapq.nsmallest(2, key_values))"
   ]
  },
  {
   "cell_type": "code",
   "execution_count": 3,
   "id": "a4694fe7",
   "metadata": {},
   "outputs": [
    {
     "name": "stdout",
     "output_type": "stream",
     "text": [
      "[(999, 'Apple'), (750, 'HP')]\n"
     ]
    }
   ],
   "source": [
    "# The 2 expensive laptops\n",
    "key_values = zip(laptop_costs.values(), laptop_costs.keys())\n",
    "print(heapq.nlargest(2, key_values))\n"
   ]
  },
  {
   "cell_type": "code",
   "execution_count": null,
   "id": "2569ce45",
   "metadata": {},
   "outputs": [],
   "source": []
  }
 ],
 "metadata": {
  "kernelspec": {
   "display_name": "Python 3 (ipykernel)",
   "language": "python",
   "name": "python3"
  },
  "language_info": {
   "codemirror_mode": {
    "name": "ipython",
    "version": 3
   },
   "file_extension": ".py",
   "mimetype": "text/x-python",
   "name": "python",
   "nbconvert_exporter": "python",
   "pygments_lexer": "ipython3",
   "version": "3.9.7"
  }
 },
 "nbformat": 4,
 "nbformat_minor": 5
}
